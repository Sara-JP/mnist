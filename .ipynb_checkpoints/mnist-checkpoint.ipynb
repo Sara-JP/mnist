{
 "cells": [
  {
   "cell_type": "markdown",
   "id": "d333515a",
   "metadata": {},
   "source": [
    "<h1 align=center style=\"line-height:200%;font-family:vazir;color:#0099cc\">\n",
    "<font face=\"vazir\" color=\"#0099cc\">\n",
    "ام نیست\n",
    "</font>\n",
    "</h1>"
   ]
  },
  {
   "cell_type": "markdown",
   "id": "6ed20bff",
   "metadata": {},
   "source": [
    "<h2 align=right style=\"line-height:200%;font-family:vazir;color:#0099cc\">\n",
    "<font face=\"vazir\" color=\"#0099cc\">\n",
    "مقدمه و صورت مسئله\n",
    "</font>\n",
    "</h2>\n",
    "\n",
    "<p dir=rtl style=\"direction: rtl; text-align: justify; line-height:200%; font-family:vazir; font-size:medium\">\n",
    "<font face=\"vazir\" size=3>\n",
    "    با پیشرفت در طراحی سیستم‌های سخت‌افزاری، امکان اجرای الگوریتم‌های پیشرفته و سنگین‌تر فراهم شد. در نتیجه این اتفاق، رخدادهای فراوانی به وقوع پیوست که یکی از آن‌ها تحول در پردازش تصویر رقمی بود.\n",
    "    <br>\n",
    "    منظور از پردازش تصویر رقمی، آنالیز و کشف الگو در دل تصاویر دیجیتال است. کاربردهای پردازش تصویر را در <i>face recognition</i> تلفن‌های همراه هوشمند می‌توان مشاهده کرد. این سیستم‌ها با دریافت تصویر به عنوان ورودی، تشخیص می‌دهد که آیا شخص مجاز به ورود به تلفن همراه هست یا خیر. البته عملکرد این سیستم فراتر از یک تشخیص ساده است. زیرا ممکن است شخصی با گرفتن عکس شما جلو دوربین تلفن همراه، قصد ورود غیرمجاز به حریم شخصی شما را داشته باش!\n",
    "    <br>\n",
    "    از بحث تشخیص چهره بگذریم، یکی از ساده‌ترین مثال‌هایی که در پردازش تصویر مطرح است، تشخیص ارقام دست‌نویس است. به این معنی که با دریافت عکس از یک عدد دست‌نویس، کامپیوتر بتواند تشخیص دهد چه عددی ورودی گرفته است.\n",
    "    <br>\n",
    "    مثلا با مشاهده این عکس \n",
    "    <br>\n",
    "    <img src=\"./four.png\", alt=\"picture of four\"/>\n",
    "    عدد چهار را خروجی دهد.\n",
    "</font>\n",
    "</p>"
   ]
  },
  {
   "cell_type": "markdown",
   "id": "c5af1784",
   "metadata": {},
   "source": [
    "<h2 align=right style=\"line-height:200%;font-family:vazir;color:#0099cc\">\n",
    "<font face=\"vazir\" color=\"#0099cc\">\n",
    "وارد کردن کتابخانه‌های مورد نیاز\n",
    "</font>\n",
    "</h2>\n",
    "\n",
    "<p dir=rtl style=\"direction: rtl; text-align: justify; line-height:200%; font-family:vazir; font-size:medium\">\n",
    "<font face=\"vazir\" size=3>\n",
    "    ابتدا کتابخانه‌های مورد نیازتان را وارد کنید.\n",
    "</font>\n",
    "</p>"
   ]
  },
  {
   "cell_type": "code",
   "execution_count": 1,
   "id": "99450f9e",
   "metadata": {},
   "outputs": [],
   "source": [
    "import numpy as np\n",
    "import pandas as pd \n",
    "import matplotlib.pyplot as plt"
   ]
  },
  {
   "cell_type": "markdown",
   "id": "72faaed8",
   "metadata": {},
   "source": [
    "<h2 align=right style=\"line-height:200%;font-family:vazir;color:#0099cc\">\n",
    "<font face=\"vazir\" color=\"#0099cc\">\n",
    "معرفی مجموعه داده\n",
    "</font>\n",
    "</h2>\n",
    "\n",
    "<p dir=rtl style=\"direction: rtl;text-align: right;line-height:200%;font-family:vazir;font-size:medium\">\n",
    "<font face=\"vazir\" size=3>\n",
    "داده آموزشی مسئله دارای ۶۰۰۰۰ سطر و ۷۸۵ ستون است.\n",
    "    <br>\n",
    "   هر سطر اطلاعات یک عکس را نشان می‌دهد. اولین ستون نشان‌دهنده برچسب نمونه (عددی داخل عکس) و ۷۸۴ ستونی که در ادامه آمده‌اند، ویژگی‌های یک عکس هستند.\n",
    "    <br>\n",
    "       عکس را می‌توان یک ماتریس در نظر گرفت که هر درایه آن یک پیکسل است. عدد موجود در هر درایه بین ۰ و ۲۵۵ است و هر چه به ۲۵۵ نزدیک شود، درجه روشنایی آن پیکسل بیشتر خواهد بود. بنابراین پیکسلی با عدد ۲۵۵ کامل سفید و پیکسلی با عدد ۰ کامل سیاه نمایش داده خواهد شد. مثلا در عکس بالا، پیکسل‌هایی که درون عدد ۴ هستند، عدد بزرگتری نسبت به حاشیه تصویر که سیاه رنگ است، دارند.\n",
    "    <br>\n",
    "    دیتاست این تمرین نیز در حقیقت شامل ۶۰ هزار ماتریس ۲۸*۲۸ است. برای راحتی شما هر کدام از ماتریس‌های ۲۸*۲۸ را هموار کرده‌ایم. به این معنی که سطرهای ماتریس را در امتداد همدیگر چیده و یک آرایه ۷۸۴تایی درست کرده‌ایم.\n",
    "    <br>\n",
    "    برای همین است که هر سطر دیتافریم (هر عکس) دارای ۷۸۴ ستون یا ویژگی است و یک برچسب هم دارد.\n",
    "    <br>\n",
    "    نامگذاری ستون‌های دیتافریم به صورت $i*j$ است. یعنی عددی که در این ستون مشاهده می‌کنید در ماتریس اصلی (قبل از هموار شدن) در سطر $i$ ام و ستون $j$ ام قرار داشته.\n",
    "    <br>\n",
    "    ستون دیگری به اسم <code>label</code> فقط در دیتافریم آموزش یافت می‌شود که نشانگر عدد درون تصویر است.\n",
    "</font>\n",
    "</p>\n"
   ]
  },
  {
   "cell_type": "markdown",
   "id": "e99bbe9b",
   "metadata": {},
   "source": [
    "<h2 align=right style=\"line-height:200%;font-family:vazir;color:#0099cc\">\n",
    "<font face=\"vazir\" color=\"#0099cc\">\n",
    "خواندن مجموعه داده\n",
    "</font>\n",
    "</h2>\n",
    "\n",
    "<p dir=rtl style=\"direction: rtl; text-align: justify; line-height:200%; font-family:vazir; font-size:medium\">\n",
    "<font face=\"vazir\" size=3>\n",
    "    در ابتدا نیاز است فایل‌های مجموعه‌داده را بخوانید. اگر لازم دانستید می‌توانید به دلخواه خود بخشی از دادگان آموزشی را به عنوان دادگان اعتبارسنجی نیز جدا کنید.\n",
    "</font>\n",
    "</p>"
   ]
  },
  {
   "cell_type": "code",
   "execution_count": null,
   "id": "38cba97f",
   "metadata": {},
   "outputs": [],
   "source": [
    "train_data = pd.read_csv('../data/mnist_train.csv')\n",
    "test_data = pd.read_csv('../data/mnist_test.csv')\n",
    "\n",
    "\n",
    "train_data"
   ]
  },
  {
   "cell_type": "markdown",
   "id": "23daec54",
   "metadata": {},
   "source": [
    "<h2 align=right style=\"line-height:200%;font-family:vazir;color:#0099cc\">\n",
    "<font face=\"vazir\" color=\"#0099cc\">\n",
    "پیش‌پردازش و مهندسی ویژگی\n",
    "</font>\n",
    "</h2>\n",
    "\n",
    "<p dir=rtl style=\"direction: rtl; text-align: justify; line-height:200%; font-family:vazir; font-size:medium\">\n",
    "<font face=\"vazir\" size=3>\n",
    "    در این سوال شما می‌توانید از هر تکنیک پیش‌پردازش/مهندسی ویژگی که در فصل‌های گذشته آموختید، استفاده کنید.\n",
    "    <br>\n",
    "    تکنیک‌هایی که استفاده می‌کنید به شکل مستقیم مورد ارزیابی توسط سامانه داوری قرار <b>نمی‌گیرند.</b> بلکه همه آن‌ها در دقت مدل شما تاثیر خواهند گذاشت؛ بنابراین هر چه پیش‌پردازش/مهندسی ویژگی بهتری انجام دهید تا دقت مدل بهبود پیدا کند، امتیاز بیشتری از این سوال کسب خواهید کرد.\n",
    "</font>\n",
    "</p>"
   ]
  },
  {
   "cell_type": "markdown",
   "id": "84a89d51",
   "metadata": {},
   "source": [
    "<p dir=rtl style=\"direction: rtl; text-align: justify; line-height:200%; font-family:vazir; font-size:medium\">\n",
    "<font face=\"vazir\" size=3>\n",
    "    تلاش کنید با <code>reshape</code> کردن یک سطر از دیتافریم، و با استفاده از مت‌پلات‌لیب عدد درون آن را مشاهده کنید.\n",
    "    <br>\n",
    "    متد <code>matshow</code> در مت‌پلات‌لیب برای به تصویر کشیدن ماتریس‌ها استفاده می‌شود.\n",
    "</font>\n",
    "</p>"
   ]
  },
  {
   "cell_type": "code",
   "execution_count": null,
   "id": "7949308f",
   "metadata": {},
   "outputs": [],
   "source": [
    "# plot a picture based on some row in `train_data`\n"
   ]
  },
  {
   "cell_type": "code",
   "execution_count": null,
   "id": "f7c23000",
   "metadata": {},
   "outputs": [],
   "source": [
    "# do some preprocessing!"
   ]
  },
  {
   "cell_type": "markdown",
   "id": "f99f2c94",
   "metadata": {},
   "source": [
    "<h2 align=right style=\"line-height:200%;font-family:vazir;color:#0099cc\">\n",
    "<font face=\"vazir\" color=\"#0099cc\">\n",
    "مدل‌سازی\n",
    "</font>\n",
    "</h2>\n",
    "\n",
    "<p dir=rtl style=\"direction: rtl; text-align: justify; line-height:200%; font-family:vazir; font-size:medium\">\n",
    "<font face=\"vazir\" size=3>\n",
    "    حال که داده را پاکسازی کرده و احتمالا ویژگی‌هایی را به آن افزوده یا از آن حذف کرده‌اید، وقت آن است که مدلی آموزش دهید که بتواند متغیر هدف این مسئله را پیش‌بینی کند.\n",
    "</font>\n",
    "</p>"
   ]
  },
  {
   "cell_type": "markdown",
   "id": "84ccbf48",
   "metadata": {},
   "source": [
    "<h3 align=right style=\"direction: rtl;text-align: right;line-height:200%;font-family:vazir;color:#0099cc\">\n",
    "<font face=\"vazir\" color=\"#0099cc\">\n",
    "    استفاده از <code>scikit-learn</code>\n",
    "</font>\n",
    "</h3>\n",
    "\n",
    "\n",
    "<p dir=rtl style=\"direction: rtl;text-align: right;line-height:200%;font-family:vazir;font-size:medium\">\n",
    "<font face=\"vazir\" size=3>\n",
    "    الگوریتم <i>پرسپترون چند لایه</i> با نام <code>MLPClassifier</code> در پکیج <code>neural_network</code> این کتابخانه در دسترس است. برخی از آرگومان‌های مهم آن در جدول زیر آمده است، اما جهت مطالعه‌ی کامل‌تر مستندات می‌توانید به <a href=\"https://scikit-learn.org/stable/modules/generated/sklearn.neural_network.MLPClassifier.html\" target=\"_blank\">این لینک</a> مراجعه فرمایید.\n",
    "</font>\n",
    "</p>\n",
    "\n",
    "<center>\n",
    "<div dir=rtl style=\"direction: rtl;text-align: right;line-height:200%;font-family:vazir;font-size:medium\">\n",
    "<font face=\"vazir\" size=3>\n",
    "    \n",
    "|آرگومان|جنس و تایپ|توضیحات|\n",
    "|:------:|:--------:|:---:|\n",
    "|hidden_layer_sizes|<code>tuple</code>|تعداد نورون‌های لایه‌های مخفی شبکه عصبی را نشان می‌دهد. <code>len</code> این آرگومان برابر است با $n_{layers} -2 $. المان $i$ ام این تاپل، تعداد نورون‌های لایه $i$ ام شبکه را نشان می‌دهد. به عنوان مثال $hidde\\_layer\\_sizes = (100,128)$ به معنی این است که در اولین لایه مخفی ۱۰۰ نورون و در دومین لایه مخفی ۱۲۸ نورون وجود داشته باشد. به صورت پیشفرض این آرگومان برابر است با $hidden\\_layer\\_sizes = (100, )$ |\n",
    "|activation|<code>str</code>|تابع فعالسازی را با این آرگومان مشخص می‌کنیم. این آرگومان یکی از مقادیر *identity* , *relu*, *tanh*, *logistic* را می‌تواند بپذیرد. |\n",
    "|solver|<code>str</code>|تابع بهینه‌ساز را مشخص می‌کند. این آرگومان به صورت پیشفرض بر روی *adam* تنظیم شده است، اما مقادیر دیگری نظیر *lbfgs* و *sgd* را نیز می‌پذیرد. بهینه‌ساز پیشفرض برای دیتاست‌هایی با هزاران یا بیشتر تعداد نمونه مناسب است؛ هم از لحاظ زمان آموزش و هم لحاظ معیار کیفی، نتایج قابل قبولی ارائه می‌کند. اما برای داده‌های کوچک‌تر می‌توانید از *lbfgs* استفاده کنید.|\n",
    "|alpha|`float`|ضریب منظم‌سازی *L2* است که به تابع هزینه اضافه می‌شود.|\n",
    "|tol|`float`|آستانه تحمل بهینه‌سازی را نشان می‌دهد. وقتی امتیاز یا هزینه مدل، در `n_iter_no_change` بار چرخش، به اندازه حداقل `tol` بهبود نمی‌یابد، مدل فرض می‌کند که تابع بهینه‌سازی، به نقطه اپتیمم همگرا شده است و الگوریتم را متوقف می‌کند.|\n",
    "|max_iter|<code>int</code>|حداکثر دفعاتی که الگوریتم بهینه‌ساز مجاز است اجرا شود تا به نقطه بهینه همگرا شود. شرط پایان الگوریتم یا رسیدن به `max_iter` است یا اینکه با گذشت `n_iter_no_change` بار چرخش، امتیاز مدل دست کم `tol` هم بهبود پیدا نکند.|\n",
    "|n_iter_no_change|<code>int</code>|حداکثر تعداد *epoch* ای که الگوریتم مجاز است اجرا شود تا به نقطه بهینه همگرا شود را نشان می‌دهد.|\n",
    "|early_stopping|<code>bool</code>|مشخص می‌کند که آیا الگوریتم در صورتی که پس از `n_iter_no_change` بار چرخش، باز هم به نقطه بهینه همگرا نشده است، مجاز است متوقف شود یا خیر.|\n",
    "    \n",
    "</font>\n",
    "</div>\n",
    "</center>\n"
   ]
  },
  {
   "cell_type": "markdown",
   "id": "7d90b4d9",
   "metadata": {},
   "source": [
    "<h3 align=right style=\"line-height:200%;font-family:vazir;color:#0099cc\">\n",
    "<font face=\"vazir\" color=\"#0099cc\">\n",
    "آموزش مدل\n",
    "</font>\n",
    "</h3>\n",
    "\n",
    "<p dir=rtl style=\"direction: rtl; text-align: justify; line-height:200%; font-family:vazir; font-size:medium\">\n",
    "<font face=\"vazir\" size=3>\n",
    "    در سلول زیر با استفاده از مدل آماده‌ای که در بالا شرح داده شد و به کمک تابع <code>fit</code> الگوریتم را بر روی دادگان آموزشی اجرا کنید.\n",
    "</font>\n",
    "</p>"
   ]
  },
  {
   "cell_type": "code",
   "execution_count": null,
   "id": "03d20a30",
   "metadata": {},
   "outputs": [],
   "source": [
    "# modeling\n",
    "from sklearn.neural_network import MLPClassifier\n",
    "model = MLPClassifier()"
   ]
  },
  {
   "cell_type": "markdown",
   "id": "33da5d2a",
   "metadata": {},
   "source": [
    "<h3 align=right style=\"line-height:200%;font-family:vazir;color:#0099cc\">\n",
    "<font face=\"vazir\" color=\"#0099cc\">\n",
    "معیار ارزیابی\n",
    "</font>\n",
    "</h3>\n",
    "\n",
    "<p dir=rtl style=\"direction: rtl; text-align: justify; line-height:200%; font-family:vazir; font-size:medium\">\n",
    "<font face=\"vazir\" size=3>\n",
    "    معیاری که برای ارزیابی عملکرد مدل انتخاب کرده‌ایم، <code>f1_score</code> نام دارد.\n",
    "    <br>\n",
    "    این معیار، سنجه ارزیابی کیفیت مدل شماست. به عبارت بهتر در سامانه داوری هم از همین معیار برای نمره‌دهی استفاده شده است.\n",
    "    <br>\n",
    "    پیشنهاد می‌شود با توجه به این معیار، عملکرد مدل خود را بر روی دادگان آموزش یا اعتبارسنجی ارزیابی کنید.\n",
    "</font>\n",
    "</p>"
   ]
  },
  {
   "cell_type": "code",
   "execution_count": null,
   "id": "cee1b883",
   "metadata": {},
   "outputs": [],
   "source": [
    "# evaluate model\n",
    "from sklearn.metrics import classification_report, f1_score\n"
   ]
  },
  {
   "cell_type": "markdown",
   "id": "ddad09cf",
   "metadata": {},
   "source": [
    "<p dir=rtl style=\"direction: rtl; text-align: justify; line-height:200%; font-family:vazir; font-size:medium\">\n",
    "<font color=\"red\"><b color='red'>توجه:</b></font>\n",
    "<font face=\"vazir\" size=3>\n",
    " جهت کسب امتیاز کامل نیاز است تا پاسخ شما حداقل امتیاز <code>95%</code> را با توجه به معیار معرفی‌شده کسب نماید.\n",
    "</font>\n",
    "</p>"
   ]
  },
  {
   "cell_type": "markdown",
   "id": "c2f6d82d",
   "metadata": {},
   "source": [
    "<h2 align=right style=\"line-height:200%;font-family:vazir;color:#0099cc\">\n",
    "<font face=\"vazir\" color=\"#0099cc\">\n",
    " پیش‌بینی برای داده تست و خروجی\n",
    "</font>\n",
    "</h2>\n",
    "\n",
    "<p dir=rtl style=\"direction: rtl;text-align: right;line-height:200%;font-family:vazir;font-size:medium\">\n",
    "<font face=\"vazir\" size=3>\n",
    "    پس از مهندسی ویژگی و مدلسازی، الگوریتمی دارید که می‌تواند شما را از متغیرهای وابسته به متغیر هدف برساند.\n",
    "    <br>\n",
    "    از این مدل برای پیش‌بینی نمونه‌های موجود در داده تست استفاده کنید و نتایج را در قالب جدول (<code>dataframe</code>) زیر آماده کنید.\n",
    "</font>\n",
    "</p>\n",
    "\n",
    "<div dir=rtl style=\"direction: rtl;text-align: right;line-height:200%;font-family:vazir;font-size:medium\">\n",
    "<font face=\"vazir\" size=3>\n",
    "    \n",
    "|ستون|توضیحات|\n",
    "|------|---|\n",
    "|label|عدد درون تصویر|\n",
    "    \n",
    "</font>\n",
    "</div>\n",
    "\n"
   ]
  },
  {
   "cell_type": "markdown",
   "id": "15f4f572",
   "metadata": {},
   "source": [
    "<p dir=rtl style=\"direction: rtl;text-align: right;line-height:200%;font-family:vazir;font-size:medium\">\n",
    "<font face=\"vazir\" size=3>\n",
    "    اسم دیتافریم باید <i>submission</i> باشد؛ در غیر این صورت، سامانه داوری نمی‌تواند تلاش‌ شما را ارزیابی کند.\n",
    "    <br>\n",
    "    این دیتافریم تنها شامل ۱ ستون با اسم <i>label</i> است و ۱۰۰۰۰ سطر دارد.\n",
    "    <br>\n",
    "    به ازای هر سطر موجود در دیتافریم <i>test_data</i> شما باید یک مقدار پیشبینی شده داشته باشید.\n",
    "    <br>\n",
    "    جدول زیر، ۵ سطر ابتدایی دیتافریم <code>submission</code> را نشان می‌دهد. البته در جواب شما، اعداد ستون <i>label</i> ممکن است متفاوت باشد.\n",
    "</font>\n",
    "</p>\n",
    "\n",
    "<div style=\"text-align: right;line-height:200%;font-family:vazir;font-size:medium\">\n",
    "<font face=\"vazir\" size=3>\n",
    "    \n",
    "||label|\n",
    "|----|-----|\n",
    "|0|1|\n",
    "|1|6|\n",
    "|2|9|\n",
    "|3|4|\n",
    "|4|0|\n",
    "\n",
    "</font>\n",
    "</div>\n",
    "\n"
   ]
  },
  {
   "cell_type": "code",
   "execution_count": null,
   "id": "3d4a0844",
   "metadata": {},
   "outputs": [],
   "source": [
    "# predict test samples\n",
    "submission = pd.DataFrame()"
   ]
  },
  {
   "cell_type": "markdown",
   "id": "0a77e7cd",
   "metadata": {},
   "source": [
    "<h2 align=right style=\"line-height:200%;font-family:vazir;color:#0099cc\">\n",
    "<font face=\"vazir\" color=\"#0099cc\">\n",
    "<b>سلول جواب‌ساز</b>\n",
    "</font>\n",
    "</h2>\n",
    "\n",
    "<p dir=rtl style=\"direction: rtl; text-align: justify; line-height:200%; font-family:vazir; font-size:medium\">\n",
    "<font face=\"vazir\" size=3>\n",
    "    برای ساخته‌شدن فایل <code>result.zip</code> سلول زیر را اجرا کنید. توجه داشته باشید که پیش از اجرای سلول زیر تغییرات اعمال شده در نت‌بوک را ذخیره کرده باشید (<code>ctrl+s</code>) تا در صورت نیاز به پشتیبانی امکان بررسی کد شما وجود داشته باشد.\n",
    "</font>\n",
    "</p>"
   ]
  },
  {
   "cell_type": "code",
   "execution_count": null,
   "id": "2c3bcd76",
   "metadata": {},
   "outputs": [],
   "source": [
    "import zipfile\n",
    "import joblib\n",
    "\n",
    "def compress(file_names):\n",
    "    print(\"File Paths:\")\n",
    "    print(file_names)\n",
    "    compression = zipfile.ZIP_DEFLATED\n",
    "    with zipfile.ZipFile(\"result.zip\", mode=\"w\") as zf:\n",
    "        for file_name in file_names:\n",
    "            zf.write('./' + file_name, file_name, compress_type=compression)\n",
    "\n",
    "joblib.dump(model, 'model')\n",
    "submission.to_csv('submission.csv', index=False)\n",
    "file_names = ['mnist.ipynb', 'submission.csv', 'model']\n",
    "compress(file_names)"
   ]
  }
 ],
 "metadata": {
  "kernelspec": {
   "display_name": "Python 3 (ipykernel)",
   "language": "python",
   "name": "python3"
  },
  "language_info": {
   "codemirror_mode": {
    "name": "ipython",
    "version": 3
   },
   "file_extension": ".py",
   "mimetype": "text/x-python",
   "name": "python",
   "nbconvert_exporter": "python",
   "pygments_lexer": "ipython3",
   "version": "3.9.2"
  }
 },
 "nbformat": 4,
 "nbformat_minor": 5
}
